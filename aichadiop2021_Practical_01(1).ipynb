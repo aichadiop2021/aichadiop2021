{
 "cells": [
  {
   "cell_type": "markdown",
   "metadata": {},
   "source": [
    "<center>\n",
    "    <a href=\"https://www.aims-senegal.org/\" ><img src=\"aimssn_logo.png\" style=\"float:center; max-width: 600px; display: inline\" alt=\"IMSP\"/> </a>\n",
    "    </center>\n",
    "    \n",
    "#    <center> <b> <span style=\"color:orange;\" >  `Python for Scientific Computing and Software Engineering ` </span> </b></center>\n",
    "\n",
    "\n",
    "## <center> <b> <span style=\"color:orange;\"> An Initiation to Programming using Python (Init2Py) </span> </b></center>\n",
    "\n",
    "### <center> <b> <span style=\"color:blue;\"> Practicals: Variables, Types & Operations </span> </b></center>"
   ]
  },
  {
   "cell_type": "code",
   "execution_count": null,
   "metadata": {},
   "outputs": [],
   "source": []
  },
  {
   "cell_type": "markdown",
   "metadata": {},
   "source": [
    "**Exercise 00:**  \n",
    "\n",
    "> 1. Declare a variable `firstname` and assign it a value.\n",
    "> 2. Declare a `lastname` variable and assign a value to it.\n",
    "> 3. Declare a `full_name` variable and assign it a value.\n",
    "> 4. Declare a `country` variable and assign it a value.\n",
    "> 5. Declare a variable `city` and assign it a value.\n",
    "> 6. Declare a `age` variable and assign it a value.\n",
    "> 7. Declare a variable `year` and assign it a value.\n",
    "> 8. Declare a variable `is_marrie` and assign it a value.\n",
    "> 9. Declare a variable `is_true` and assign it a value.\n",
    "\n",
    "> For each of the above variable, display the value it contains using the `print()` function.\n",
    "\n",
    "\n"
   ]
  },
  {
   "cell_type": "code",
   "execution_count": 6,
   "metadata": {},
   "outputs": [
    {
     "name": "stdout",
     "output_type": "stream",
     "text": [
      "Aissata\n",
      "Diop\n",
      "Aissta Diop\n",
      "senegal\n",
      "Dakar\n",
      "52\n",
      "2021\n",
      "False\n",
      "True\n"
     ]
    }
   ],
   "source": [
    "firstname='Aissata'\n",
    "lastname='Diop'\n",
    "fullname='Aissta Diop'\n",
    "country='senegal'\n",
    "city='Dakar'\n",
    "age=52\n",
    "year=2021\n",
    "is_married=False\n",
    "is_true=True\n",
    "print(firstname)\n",
    "print(lastname)\n",
    "print(fullname)\n",
    "print(country)\n",
    "print(city)\n",
    "print(age)\n",
    "print(year)\n",
    "print(is_married)\n",
    "print(is_true)"
   ]
  },
  {
   "cell_type": "markdown",
   "metadata": {},
   "source": [
    "**Exercise 01:** \n",
    "> Check the data type of all your variables using the built-in function `type()`.**\n"
   ]
  },
  {
   "cell_type": "code",
   "execution_count": 7,
   "metadata": {},
   "outputs": [
    {
     "name": "stdout",
     "output_type": "stream",
     "text": [
      "<class 'str'> Aissata\n",
      "<class 'str'> Diop\n",
      "<class 'str'> Aissta Diop\n",
      "<class 'str'> senegal\n",
      "<class 'str'> Dakar\n",
      "<class 'int'> Dakar\n",
      "<class 'int'> 2021\n",
      "<class 'bool'> False\n",
      "<class 'bool'> True\n"
     ]
    }
   ],
   "source": [
    "print(type(firstname),firstname)\n",
    "print(type(lastname),lastname)\n",
    "print(type(fullname),fullname)\n",
    "print(type(country),country)\n",
    "print(type(city),city)\n",
    "print(type(age),city)\n",
    "print(type(year),year)\n",
    "print(type(is_married),is_married)\n",
    "print(type(is_true),is_true)\n"
   ]
  },
  {
   "cell_type": "markdown",
   "metadata": {},
   "source": [
    "**Exercise 02:** \n",
    "> Calculate the value of $y$ ($y = x^2 + 6x + 9$). Try using different values of $x$ and determine at what value of $x$ will $y$ be equal to 0.**"
   ]
  },
  {
   "cell_type": "code",
   "execution_count": 8,
   "metadata": {},
   "outputs": [
    {
     "name": "stdout",
     "output_type": "stream",
     "text": [
      "0\n"
     ]
    }
   ],
   "source": [
    "x=input()\n",
    "y=x*x+6*x+9\n",
    "print(y)\n",
    "\n"
   ]
  },
  {
   "cell_type": "markdown",
   "metadata": {},
   "source": [
    "**Exercise 03:** \n",
    ">    \n",
    "     1. Declare your age as an integer variable\n",
    "     2. Declare your height as a float variable\n",
    "     3. Declare a variable that stores the base and height of a triangle. Calculate the area of this triangle (area = 0.5 x b x h)."
   ]
  },
  {
   "cell_type": "code",
   "execution_count": 1,
   "metadata": {},
   "outputs": [
    {
     "name": "stdout",
     "output_type": "stream",
     "text": [
      "donner la base6\n",
      "donner la hauteur5\n",
      "15.0\n"
     ]
    }
   ],
   "source": [
    "age=int(40)\n",
    "height=int(60)\n",
    "b=float(input('donner la base'))\n",
    "h=float(input('donner la hauteur'))\n",
    "area=0.5*b*h\n",
    "print(area)"
   ]
  },
  {
   "cell_type": "code",
   "execution_count": null,
   "metadata": {},
   "outputs": [],
   "source": []
  },
  {
   "cell_type": "markdown",
   "metadata": {},
   "source": [
    "## *Tip: receiving input from the user *\n",
    "**To receive an input from the user, we use `input()`.**.\n",
    "\n",
    "**Example**\n",
    "Receive two numbers as input from the user and calculate their power:\n",
    "```python\n",
    "base = input(\"Enter a base: \")\n",
    "exponent = input(\"Enter an exponent: \")\n",
    "result = float(base) ** float(exponent)\n",
    "print(f \"{base} to the power of {exponent} = {result}\")\n",
    "```"
   ]
  },
  {
   "cell_type": "code",
   "execution_count": 12,
   "metadata": {},
   "outputs": [
    {
     "name": "stdout",
     "output_type": "stream",
     "text": [
      "9\n"
     ]
    }
   ],
   "source": [
    "\n"
   ]
  },
  {
   "cell_type": "markdown",
   "metadata": {},
   "source": [
    "**Exercise 04:** \n",
    "> **Write a small code that asks the user to enter the side $a$, the side $b$ and the side $c$ of a triangle. Calculate the perimeter of the triangle (perimeter = a + b + c).**"
   ]
  },
  {
   "cell_type": "code",
   "execution_count": 2,
   "metadata": {},
   "outputs": [
    {
     "name": "stdout",
     "output_type": "stream",
     "text": [
      "donner_a: 2\n",
      "donner_b: 3\n",
      "donner_c:4\n",
      "9\n"
     ]
    }
   ],
   "source": [
    "a=int(input('donner_a: '))\n",
    "b=int(input('donner_b: '))\n",
    "c=int(input('donner_c:'))\n",
    "perimeter=a+b+c\n",
    "print(perimeter)"
   ]
  },
  {
   "cell_type": "markdown",
   "metadata": {},
   "source": [
    "**Exercise 05:** \n",
    "> **Obtain the length and width of a rectangle using the prompt. Calculate its `area`and its `perimeter`.**"
   ]
  },
  {
   "cell_type": "code",
   "execution_count": 2,
   "metadata": {},
   "outputs": [
    {
     "name": "stdout",
     "output_type": "stream",
     "text": [
      "donner la longueur3\n",
      "donner la largeur5\n",
      "15\n",
      "16\n"
     ]
    }
   ],
   "source": [
    "a=input('donner la longueur')\n",
    "b=input('donner la largeur')\n",
    "c=int(a)*int(b)\n",
    "print(c)\n",
    "d=(int(a)+int(b))*2\n",
    "print(d)\n"
   ]
  },
  {
   "cell_type": "markdown",
   "metadata": {},
   "source": [
    "**Exercice 06:** \n",
    "> **Obtenez le rayon d'un cercle en utilisant l'invite. Calculez l'aire (aire = pi x r x r) et la circonférence (c = 2 x pi x r) où pi = 3,14.**"
   ]
  },
  {
   "cell_type": "code",
   "execution_count": 4,
   "metadata": {},
   "outputs": [
    {
     "name": "stdout",
     "output_type": "stream",
     "text": [
      "28.274333882308138\n",
      "18.84955592153876\n"
     ]
    }
   ],
   "source": [
    "import math\n",
    "r=3\n",
    "aire=math.pi*r*r\n",
    "print(aire)\n",
    "c=2*math.pi*r\n",
    "print(c)\n"
   ]
  },
  {
   "cell_type": "markdown",
   "metadata": {},
   "source": [
    "**Exercice 07:**\n",
    "> **Calculez la pente, l'ordonnée à l'origine en x et l'ordonnée à l'origine en $y$ de $y = 2x -2$.**"
   ]
  },
  {
   "cell_type": "code",
   "execution_count": 2,
   "metadata": {},
   "outputs": [
    {
     "name": "stdout",
     "output_type": "stream",
     "text": [
      "donner la valeur de x11\n",
      "donner la valeur de x22\n",
      "2.0\n",
      "-2\n",
      "1.0\n"
     ]
    }
   ],
   "source": [
    "x1=float(input('donner la valeur de x1 '))\n",
    "y1=2*float(x1)-2\n",
    "x2=float(input('donner la valeur de x2'))\n",
    "y2=2*float(x2)-2\n",
    "pente=(float(y2)-float(y1))/(float(x2)-float(x1))\n",
    "print(pente)\n",
    "orddx1=2*0-2\n",
    "orddx2=(0+2)/2\n",
    "print(orddx1)\n",
    "print(orddx2)\n",
    "\n",
    "\n",
    "\n",
    "        "
   ]
  },
  {
   "cell_type": "markdown",
   "metadata": {},
   "source": [
    "**Exercice 08:** \n",
    "> **Rédigez un script qui demande à l'utilisateur d'entrer les heures et le taux horaire. Calculez la rémunération de la personne ?**"
   ]
  },
  {
   "cell_type": "code",
   "execution_count": 1,
   "metadata": {},
   "outputs": [
    {
     "name": "stdout",
     "output_type": "stream",
     "text": [
      "donner l heure3\n",
      "donner le taux5000\n",
      "15000\n"
     ]
    }
   ],
   "source": [
    "Heure=int(input('donner l heure'))\n",
    "Taux=float(input('donner le taux'))\n",
    "renum=int(Taux)*int(Heure)\n",
    "print(renum)"
   ]
  },
  {
   "cell_type": "code",
   "execution_count": null,
   "metadata": {},
   "outputs": [],
   "source": []
  },
  {
   "cell_type": "markdown",
   "metadata": {},
   "source": [
    "**Exercice 09:** \n",
    "> **Écrivez un script qui demande à l'utilisateur d'entrer le nombre d'années. Calculez le nombre de secondes qu'une personne peut vivre. Supposons qu'une personne puisse vivre cent ans.**"
   ]
  },
  {
   "cell_type": "code",
   "execution_count": 2,
   "metadata": {},
   "outputs": [
    {
     "name": "stdout",
     "output_type": "stream",
     "text": [
      "donner_le nombre _dannee: 100\n",
      "3153600000\n"
     ]
    }
   ],
   "source": [
    "annee=input(\"donner_le nombre _dannee: \")\n",
    "nombre_de_secondes=int(annee)*31536000\n",
    "print(nombre_de_secondes)\n"
   ]
  },
  {
   "cell_type": "markdown",
   "metadata": {},
   "source": [
    "**Exercice 10:** \n",
    "> **Écrivez un script Python qui affiche le tableau suivant**\n",
    "\n",
    "    1 1 1 1 1\n",
    "    \n",
    "    2 1 2 4 8\n",
    "    \n",
    "    3 1 3 9 27\n",
    "    \n",
    "    4 1 4 16 64\n",
    "    \n",
    "    5 1 5 25 125"
   ]
  },
  {
   "cell_type": "code",
   "execution_count": 8,
   "metadata": {},
   "outputs": [
    {
     "name": "stdout",
     "output_type": "stream",
     "text": [
      "1 1 1 1 1\n",
      "\n",
      "\n",
      "2 1 2 4 8\n",
      "\n",
      "\n",
      "3 1 3 9 27\n",
      "\n",
      "\n",
      "4 1 4 16 64\n",
      "\n",
      "\n",
      "5 1 5 25 125\n",
      "\n",
      "\n"
     ]
    }
   ],
   "source": [
    "for i in range(1,6):\n",
    "    print(i,1,i,i*i,i*i*i)\n",
    "    print('\\n')"
   ]
  },
  {
   "cell_type": "markdown",
   "metadata": {},
   "source": [
    "**Exercise 11:** \n",
    ">**Assign the variables `time` and `distance` with the values $6.892$ and $19.7$. Calculate and display the value of the speed. Improve the display by imposing a digit after the decimal point.**"
   ]
  },
  {
   "cell_type": "code",
   "execution_count": 3,
   "metadata": {},
   "outputs": [
    {
     "name": "stdout",
     "output_type": "stream",
     "text": [
      "2.8583865351131745\n"
     ]
    },
    {
     "data": {
      "text/plain": [
       "2.9"
      ]
     },
     "execution_count": 3,
     "metadata": {},
     "output_type": "execute_result"
    }
   ],
   "source": [
    "time=6.892\n",
    "distance=19.7\n",
    "speed=float(distance)/float(time)\n",
    "print(speed)\n",
    "round(speed,1)"
   ]
  },
  {
   "cell_type": "markdown",
   "metadata": {},
   "source": [
    "**Exercice 12:** \n",
    "> **Écrire un programme qui, à partir de la saisie d’un rayon et d’une hauteur, calcule levolume d’un cône droit.**"
   ]
  },
  {
   "cell_type": "code",
   "execution_count": 8,
   "metadata": {},
   "outputs": [
    {
     "name": "stdout",
     "output_type": "stream",
     "text": [
      "donner _le _rayon3\n",
      "donner _l _hauteur5\n",
      "141.3716694115407\n"
     ]
    }
   ],
   "source": [
    "import math\n",
    "rayon=float(input('donner _le _rayon'))\n",
    "hauteur=float(input('donner _l _hauteur'))\n",
    "base=math.pi*(rayon**2)\n",
    "volume=(float(base)*hauteur)\n",
    "print(volume)"
   ]
  },
  {
   "cell_type": "markdown",
   "metadata": {},
   "source": [
    "**Exercise 13:** \n",
    "> **The user gives a positive integer and the program announces how many times in a row this integer is divisible by 2.**"
   ]
  },
  {
   "cell_type": "code",
   "execution_count": 5,
   "metadata": {},
   "outputs": [
    {
     "name": "stdout",
     "output_type": "stream",
     "text": [
      "donner_un _nombre_positive8\n",
      "3\n"
     ]
    }
   ],
   "source": [
    "N=int(input('donner_un _nombre_positive'))\n",
    "x=0\n",
    "while (N%2==0):\n",
    "    N=N/2\n",
    "    x=x+1\n",
    "print(x)\n"
   ]
  },
  {
   "cell_type": "markdown",
   "metadata": {},
   "source": [
    "**Exercise 14:** \n",
    ">**The user gives an integer between 2 and 12, the program gives the number of ways to do this by rolling two dice."
   ]
  },
  {
   "cell_type": "markdown",
   "metadata": {},
   "source": [
    "**Exercice 15:** \n",
    "> **Utilisez la fonction d'entrée intégrée `input()` pour obtenir le `_prénom_`, le `_nom_`, le `_pays_d_origine` et l'`_age_` d'un utilisateur et stockez la valeur dans les noms des variables correspondantes.**"
   ]
  },
  {
   "cell_type": "code",
   "execution_count": 4,
   "metadata": {},
   "outputs": [
    {
     "name": "stdout",
     "output_type": "stream",
     "text": [
      "_prénom_: Aissata\n",
      "_nom_: Diop\n",
      "_pays_d_origine: Senegal\n",
      "_age_: 50\n"
     ]
    }
   ],
   "source": [
    "prenom=str(input('_prénom_: '))\n",
    "nom=str(input('_nom_: '))\n",
    "pays=str(input('_pays_d_origine: '))\n",
    "age=int(input('_age_: '))"
   ]
  },
  {
   "cell_type": "markdown",
   "metadata": {},
   "source": [
    "**Exercice 16:** \n",
    "\n",
    "**Déclarer $5$ comme `num_one` et $4$ comme `num_two`**\n",
    "\n",
    "   1. Additionner `num_one` et `num_two` et affecter la valeur à une variable `totale`.\n",
    "   2. Soustraire `num_two` de `num_one` et affecter la valeur à une variable `diff`.\n",
    "   3. Multipliez le `num_one` et le `num_two` et attribuez la valeur à une variable `produit`.\n",
    "   4. Divisez le `num_one` par le `num_two` et attribuez la valeur à une variable `division`.\n",
    "   5. Calculez `num_one` à la puissance de `num_two` et attribuez la valeur à une variable `exp`."
   ]
  },
  {
   "cell_type": "code",
   "execution_count": 1,
   "metadata": {},
   "outputs": [],
   "source": [
    "num_one=5\n",
    "num_two=4\n",
    "totale=num_one+num_two\n",
    "diff=num_two-num_one\n",
    "produit=num_one*num_two\n",
    "division=num_one/num_two\n",
    "exp=num_one^num_two\n",
    "\n",
    "\n",
    "\n",
    "\n",
    "\n",
    "\n",
    "\n",
    "\n"
   ]
  },
  {
   "cell_type": "markdown",
   "metadata": {},
   "source": [
    "<center> <b> <span style=\"color:orange;\"> 🎉 FÉLICITATIONS! / CONGRATULATIONS! 🎉 </span> </b></center>"
   ]
  }
 ],
 "metadata": {
  "kernelspec": {
   "display_name": "Python 3",
   "language": "python",
   "name": "python3"
  },
  "language_info": {
   "codemirror_mode": {
    "name": "ipython",
    "version": 3
   },
   "file_extension": ".py",
   "mimetype": "text/x-python",
   "name": "python",
   "nbconvert_exporter": "python",
   "pygments_lexer": "ipython3",
   "version": "3.7.3"
  }
 },
 "nbformat": 4,
 "nbformat_minor": 5
}
